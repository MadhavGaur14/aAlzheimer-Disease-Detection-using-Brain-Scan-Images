{
 "cells": [
  {
   "cell_type": "code",
   "execution_count": 16,
   "metadata": {},
   "outputs": [],
   "source": [
    "import os\n",
    "import cv2 \n",
    "import itertools\n",
    "import numpy as np \n",
    "import pandas as pd \n",
    "\n",
    "test_dir = \"E:\\\\Coding stuf\\\\projects and code\\\\MajorProject\\\\Alzheimer_s Dataset\\\\test\"\n",
    "train_dir = \"E:\\\\Coding stuf\\\\projects and code\\\\MajorProject\\\\Alzheimer_s Dataset\\\\train\"\n",
    "\n",
    "data = []"
   ]
  },
  {
   "cell_type": "code",
   "execution_count": null,
   "metadata": {},
   "outputs": [],
   "source": [
    "for dirtrain in os.listdir(train_dir): \n",
    "    print(dirtrain)\n",
    "    for tr in os.listdir(train_dir + dirtrain):\n",
    "        img = cv2.imread(train_dir + dirtrain + \"/\" + tr)\n",
    "        img = cv2.resize(img, (32, 32))\n",
    "        img = cv2.cvtColor(img, cv2.COLOR_BGR2GRAY)\n",
    "        img = img.reshape(32, 32, 1)\n",
    "        \n",
    "        data.append([img, dirtrain]) \n",
    "for dirtest in  os.listdir(test_dir):    \n",
    "    print(dirtest)\n",
    "    for ts in os.listdir(test_dir + dirtest):\n",
    "        img = cv2.imread(test_dir + dirtest + \"/\" + ts)\n",
    "        img = cv2.resize(img, (32, 32))\n",
    "        img = cv2.cvtColor(img, cv2.COLOR_BGR2GRAY)\n",
    "        img = img.reshape(32, 32, 1)\n",
    "        \n",
    "        data.append([img, dirtest])"
   ]
  },
  {
   "cell_type": "code",
   "execution_count": 18,
   "metadata": {},
   "outputs": [],
   "source": [
    "import random\n",
    "random.seed(20)"
   ]
  },
  {
   "cell_type": "code",
   "execution_count": 19,
   "metadata": {},
   "outputs": [],
   "source": [
    "random.shuffle(data)"
   ]
  },
  {
   "cell_type": "code",
   "execution_count": 20,
   "metadata": {},
   "outputs": [],
   "source": [
    "x, y = [], []\n",
    "for e in data:\n",
    "    x.append(e[0])\n",
    "    y.append(e[1])"
   ]
  },
  {
   "cell_type": "code",
   "execution_count": null,
   "metadata": {},
   "outputs": [],
   "source": [
    "from sklearn.preprocessing import OneHotEncoder\n",
    "\n",
    "x = np.array(x)\n",
    "y = np.array(y)\n",
    "y = y.reshape(y.shape[0],1)\n",
    "enc = OneHotEncoder(handle_unknown='ignore').fit(y)\n",
    "print(enc.categories_)\n",
    "y = enc.transform(y).toarray()\n",
    "print(f'Data   :   {str(x.shape)}')\n",
    "print(f'Labels :   {str(y.shape)}')"
   ]
  },
  {
   "cell_type": "code",
   "execution_count": null,
   "metadata": {},
   "outputs": [],
   "source": [
    "from sklearn.model_selection import train_test_split\n",
    "\n",
    "x_train, x_test, y_train, y_test = train_test_split(x, y, random_state=1, test_size=0.2)\n",
    "\n",
    "import tensorflow as tf"
   ]
  },
  {
   "cell_type": "code",
   "execution_count": null,
   "metadata": {},
   "outputs": [],
   "source": [
    "gpus = tf.config.experimental.list_physical_devices('GPU')\n",
    "for gpu in gpus: \n",
    "    tf.config.experimental.set_memory_growth(gpu, True)\n",
    "print(tf.config.list_physical_devices('GPU'))"
   ]
  },
  {
   "cell_type": "code",
   "execution_count": null,
   "metadata": {},
   "outputs": [],
   "source": []
  }
 ],
 "metadata": {
  "kernelspec": {
   "display_name": "Python 3",
   "language": "python",
   "name": "python3"
  },
  "language_info": {
   "codemirror_mode": {
    "name": "ipython",
    "version": 3
   },
   "file_extension": ".py",
   "mimetype": "text/x-python",
   "name": "python",
   "nbconvert_exporter": "python",
   "pygments_lexer": "ipython3",
   "version": "3.11.6"
  }
 },
 "nbformat": 4,
 "nbformat_minor": 2
}
